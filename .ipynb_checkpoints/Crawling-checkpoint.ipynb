{
 "cells": [
  {
   "cell_type": "markdown",
   "id": "d4b700af-5fd5-45e5-aed8-2b67a2b81c0c",
   "metadata": {},
   "source": [
    "# 1. Git\n",
    "* 버전관리 시스템의 종류\n",
    "* 버전관리 : 여러 파일을 하나의 버전으로 묶어 관리하는 것"
   ]
  },
  {
   "cell_type": "markdown",
   "id": "d6686cee-c30c-4ac5-8b18-021a3815f2be",
   "metadata": {},
   "source": [
    "### 1-1. 버전관리 시스템의 종류\n",
    "1. 클라이언트 - 서버 모델 : 하나의 중앙 서버로 여러 클라이언트들이 각자 필요한 것만 가져와서 작업을 하고 다시 중앙 서버로 보내서 통합하는 방식(SVN, CVS)\n",
    "2. 분산 모델 : 하나의 중앙 서버가 존재하지만, 여러 클라이언트들은 각자의 컴퓨터에 저장소에 전체 사본을 가지고 작업하는 방식(Git)"
   ]
  },
  {
   "cell_type": "markdown",
   "id": "05a2a4d3-5600-416e-97c8-732c71df9889",
   "metadata": {},
   "source": [
    "### 1-2. Git의 장점\n",
    "* 동시에 작업하는 사람들과 소스코드를 주고받을 필요가 없음\n",
    "* 같은 파일을 여러명이 동시에 병렬 개발이 가능\n",
    "* 변동 과정을 체계적으로 관리할 수 있고, 언제든지 지난 시점의 버전으로 되돌릴 수 있음\n",
    "* 인터넷이 연결되지 않은 곳에서도 개발을 진행할 수 있고, 중앙 서버의 데이터가 유실되어도 다시 복구할 수 있음"
   ]
  },
  {
   "cell_type": "markdown",
   "id": "229476ad-499d-4e3a-aa0e-b044b01ecb6f",
   "metadata": {},
   "source": [
    "### 1-3. Git 설치\n",
    "1. 구글에서 'Git 설치' 검색\n",
    "2. 왼쪽 메뉴에서, Downloads 클릭\n",
    "3. 모니터 이미지에 있는 다운로드 버튼 클릭\n",
    "4. 다운로드\n",
    "5. 설치가 끝난 후 git bash를 실행 -> git --version 명령으로 버전을 확인"
   ]
  },
  {
   "cell_type": "markdown",
   "id": "17cfbf26-0634-4586-b3e2-4e5b9a247c6b",
   "metadata": {},
   "source": [
    "# 2. Git 명령어"
   ]
  },
  {
   "cell_type": "markdown",
   "id": "40a7a417-f187-450a-a938-67be4516101e",
   "metadata": {},
   "source": [
    "### 2-1. 프로젝트 디렉토리 내 '로컬 저장소'를 생성하기\n",
    "* 원하는 프로젝트 위치로 이동 후 'git init'을 실행"
   ]
  },
  {
   "cell_type": "code",
   "execution_count": 1,
   "id": "9615a1f0-7bcc-4f45-b165-b3ae3297ec9a",
   "metadata": {},
   "outputs": [
    {
     "name": "stdout",
     "output_type": "stream",
     "text": [
      "/Users/seongminlee/Desktop/학원/AI활용CV/Jupyter\n"
     ]
    }
   ],
   "source": [
    "%cd /Users/seongminlee/Desktop/학원/AI활용CV/Jupyter"
   ]
  },
  {
   "cell_type": "code",
   "execution_count": 2,
   "id": "fb833515-7e94-4a67-a209-67ba25db740c",
   "metadata": {},
   "outputs": [
    {
     "name": "stdout",
     "output_type": "stream",
     "text": [
      "/Users/seongminlee/Desktop/학원/AI활용CV/Jupyter/.git/ 안의 기존 깃 저장소를 다시 초기화했습니다\n"
     ]
    }
   ],
   "source": [
    "!git init"
   ]
  },
  {
   "cell_type": "markdown",
   "id": "7c0d077a-16a9-41a0-af48-98d816d0d395",
   "metadata": {},
   "source": [
    "### 2-2. 버전을 관리할 파일을 선택(stage에 올림)"
   ]
  },
  {
   "cell_type": "code",
   "execution_count": 3,
   "id": "bb570662-bfec-4cb5-8315-19e5fbe88240",
   "metadata": {},
   "outputs": [],
   "source": [
    "!git add Crawling.ipynb"
   ]
  },
  {
   "cell_type": "markdown",
   "id": "40753912-939a-4b26-addc-ec148472b1d8",
   "metadata": {},
   "source": [
    "### 2-3. 하나의 버전으로 만들기\n",
    "* 로컬 시스템에서 파일을 생성/수정/삭제한 파일들을 선별하여 버전을 만드는 것\n",
    "* 파일이 변경될 때 변경 사항은 자동으로 저장되지 않음\n",
    "* git에게 새 커밋을 생성하여 변경 사항을 저장하도록 지시"
   ]
  },
  {
   "cell_type": "code",
   "execution_count": 4,
   "id": "1c4f1487-807c-4e75-a83c-51974081c635",
   "metadata": {},
   "outputs": [
    {
     "name": "stdout",
     "output_type": "stream",
     "text": [
      "[master 38b3596] 첫 커밋\n",
      " Committer: Seongmin Lee <seongminlee@Seongminui-MacBookAir.local>\n",
      "이름과 전자메일 주소를 사용자 이름과 호스트 이름을 이용해서\n",
      "자동으로 설정했습니다. 이 정보가 맞는지 확인하십시오. 이 메시지를\n",
      "보지 않으려면 정보를 명시적으로 설정하십시오:\n",
      "\n",
      "    git config --global user.name \"내 이름\"\n",
      "    git config --global user.email you@example.com\n",
      "\n",
      "이렇게 한 다음, 이 커밋에 사용한 신원 정보를 다음과 같이 해서 바꿀 수 있습니다:\n",
      "\n",
      "    git commit --amend --reset-author\n",
      "\n",
      " 1 file changed, 66 insertions(+), 1 deletion(-)\n"
     ]
    }
   ],
   "source": [
    "!git commit -m \"첫 커밋\""
   ]
  },
  {
   "cell_type": "code",
   "execution_count": 5,
   "id": "bc81fbb7-065b-4ad1-8aea-c4aac2d9db95",
   "metadata": {},
   "outputs": [
    {
     "name": "stdout",
     "output_type": "stream",
     "text": [
      "error: unknown option `edit.email'\n",
      "사용법: git config list [<file-option>] [<display-option>] [--includes]\n",
      "  또는: git config get [<file-option>] [<display-option>] [--includes] [--all] [--regexp] [--value=<value>] [--fixed-value] [--default=<default>] <name>\n",
      "  또는: git config set [<file-option>] [--type=<type>] [--all] [--value=<value>] [--fixed-value] <name> <value>\n",
      "  또는: git config unset [<file-option>] [--all] [--value=<value>] [--fixed-value] <name> <value>\n",
      "  또는: git config rename-section [<file-option>] <old-name> <new-name>\n",
      "  또는: git config remove-section [<file-option>] <name>\n",
      "  또는: git config edit [<file-option>]\n",
      "  또는: git config [<file-option>] --get-colorbool <name> [<stdout-is-tty>]\n",
      "\n",
      "설정 파일 위치\n",
      "    --[no-]global         공통 설정 파일을 사용합니다\n",
      "    --[no-]system         시스템 설정 파일을 사용합니다\n",
      "    --[no-]local          저장소 설정 파일을 사용합니다\n",
      "    --[no-]worktree       use per-worktree config file\n",
      "    -f, --[no-]file <파일>\n",
      "                          지정한 설정 파일을 사용합니다\n",
      "    --[no-]blob <블롭-id> 지정한 블롭 오브젝트에서 설정을 읽습니다\n",
      "\n",
      "동작\n",
      "    --get                 get value: name [<value-pattern>]\n",
      "    --get-all             get all values: key [<value-pattern>]\n",
      "    --get-regexp          get values for regexp: name-regex [<value-pattern>]\n",
      "    --get-urlmatch        <URL>에 특정되는 값을 가져옵니다: <섹션>[.<변수>] <URL>\n",
      "    --replace-all         replace all matching variables: name value [<value-pattern>]\n",
      "    --add                 새 변수를 추가합니다: <이름> <값>\n",
      "    --unset               remove a variable: name [<value-pattern>]\n",
      "    --unset-all           remove all matches: name [<value-pattern>]\n",
      "    --rename-section      섹션의 이름을 바꿉니다: <옛-이름> <새-이름>\n",
      "    --remove-section      섹션을 제거합니다: <이름>\n",
      "    -l, --list            전체 목록을 표시합니다\n",
      "    -e, --edit            편집기를 엽니다\n",
      "    --get-color           find the color configured: slot [<default>]\n",
      "    --get-colorbool       find the color setting: slot [<stdout-is-tty>]\n",
      "\n",
      "Display options\n",
      "    -z, --[no-]null       값을 NUL 바이트로 끝냅니다\n",
      "    --[no-]name-only      변수 이름만 표시합니다\n",
      "    --[no-]show-origin    설정의 출처를 표시합니다 (파일, 표준 입력, 블롭, 명령행)\n",
      "    --[no-]show-scope     show scope of config (worktree, local, global, system, command)\n",
      "    --[no-]show-names     show config keys in addition to their values\n",
      "\n",
      "값 종류\n",
      "    -t, --[no-]type <종류>\n",
      "                          값이 해당 종류로 주어집니다\n",
      "    --bool                값이 \"true\" 또는 \"false\"입니다\n",
      "    --int                 값이 십진수입니다\n",
      "    --bool-or-int         값이 --bool 또는 --int입니다\n",
      "    --bool-or-str         value is --bool or string\n",
      "    --path                값이 경로(파일 또는 디렉터리 이름)입니다\n",
      "    --expiry-date         값이 만료 시각입니다\n",
      "\n",
      "기타\n",
      "    --[no-]default <값>   --get 옵션에서, 해당 항목이 없으면 기본값을 사용합니다\n",
      "    --[no-]comment <값>   human-readable comment string (# will be prepended as needed)\n",
      "    --[no-]fixed-value    use string equality when comparing values to value pattern\n",
      "    --[no-]includes       찾아볼 때 include 지시어를 고려합니다\n",
      "\n",
      "error: unknown option `edit.name'\n",
      "사용법: git config list [<file-option>] [<display-option>] [--includes]\n",
      "  또는: git config get [<file-option>] [<display-option>] [--includes] [--all] [--regexp] [--value=<value>] [--fixed-value] [--default=<default>] <name>\n",
      "  또는: git config set [<file-option>] [--type=<type>] [--all] [--value=<value>] [--fixed-value] <name> <value>\n",
      "  또는: git config unset [<file-option>] [--all] [--value=<value>] [--fixed-value] <name> <value>\n",
      "  또는: git config rename-section [<file-option>] <old-name> <new-name>\n",
      "  또는: git config remove-section [<file-option>] <name>\n",
      "  또는: git config edit [<file-option>]\n",
      "  또는: git config [<file-option>] --get-colorbool <name> [<stdout-is-tty>]\n",
      "\n",
      "설정 파일 위치\n",
      "    --[no-]global         공통 설정 파일을 사용합니다\n",
      "    --[no-]system         시스템 설정 파일을 사용합니다\n",
      "    --[no-]local          저장소 설정 파일을 사용합니다\n",
      "    --[no-]worktree       use per-worktree config file\n",
      "    -f, --[no-]file <파일>\n",
      "                          지정한 설정 파일을 사용합니다\n",
      "    --[no-]blob <블롭-id> 지정한 블롭 오브젝트에서 설정을 읽습니다\n",
      "\n",
      "동작\n",
      "    --get                 get value: name [<value-pattern>]\n",
      "    --get-all             get all values: key [<value-pattern>]\n",
      "    --get-regexp          get values for regexp: name-regex [<value-pattern>]\n",
      "    --get-urlmatch        <URL>에 특정되는 값을 가져옵니다: <섹션>[.<변수>] <URL>\n",
      "    --replace-all         replace all matching variables: name value [<value-pattern>]\n",
      "    --add                 새 변수를 추가합니다: <이름> <값>\n",
      "    --unset               remove a variable: name [<value-pattern>]\n",
      "    --unset-all           remove all matches: name [<value-pattern>]\n",
      "    --rename-section      섹션의 이름을 바꿉니다: <옛-이름> <새-이름>\n",
      "    --remove-section      섹션을 제거합니다: <이름>\n",
      "    -l, --list            전체 목록을 표시합니다\n",
      "    -e, --edit            편집기를 엽니다\n",
      "    --get-color           find the color configured: slot [<default>]\n",
      "    --get-colorbool       find the color setting: slot [<stdout-is-tty>]\n",
      "\n",
      "Display options\n",
      "    -z, --[no-]null       값을 NUL 바이트로 끝냅니다\n",
      "    --[no-]name-only      변수 이름만 표시합니다\n",
      "    --[no-]show-origin    설정의 출처를 표시합니다 (파일, 표준 입력, 블롭, 명령행)\n",
      "    --[no-]show-scope     show scope of config (worktree, local, global, system, command)\n",
      "    --[no-]show-names     show config keys in addition to their values\n",
      "\n",
      "값 종류\n",
      "    -t, --[no-]type <종류>\n",
      "                          값이 해당 종류로 주어집니다\n",
      "    --bool                값이 \"true\" 또는 \"false\"입니다\n",
      "    --int                 값이 십진수입니다\n",
      "    --bool-or-int         값이 --bool 또는 --int입니다\n",
      "    --bool-or-str         value is --bool or string\n",
      "    --path                값이 경로(파일 또는 디렉터리 이름)입니다\n",
      "    --expiry-date         값이 만료 시각입니다\n",
      "\n",
      "기타\n",
      "    --[no-]default <값>   --get 옵션에서, 해당 항목이 없으면 기본값을 사용합니다\n",
      "    --[no-]comment <값>   human-readable comment string (# will be prepended as needed)\n",
      "    --[no-]fixed-value    use string equality when comparing values to value pattern\n",
      "    --[no-]includes       찾아볼 때 include 지시어를 고려합니다\n",
      "\n"
     ]
    }
   ],
   "source": [
    "# 위와 같은 에러가 발생한 경우\n",
    "!git config --global --edit.email \"dltjdas2000@naver.com\"\n",
    "!git config --global --edit.name \"이성민\""
   ]
  },
  {
   "cell_type": "code",
   "execution_count": null,
   "id": "8a0f247f-7b8f-4489-b755-661c6bac160e",
   "metadata": {},
   "outputs": [],
   "source": [
    "# 만약 이메일 또는 이름을 잘못 입력한 경우 등록과 동일하게 진행"
   ]
  },
  {
   "cell_type": "code",
   "execution_count": 1,
   "id": "d1fb85fd-e9ea-4634-b304-e141767c1021",
   "metadata": {},
   "outputs": [
    {
     "name": "stdout",
     "output_type": "stream",
     "text": [
      "현재 브랜치 master\n",
      "커밋하도록 정하지 않은 변경 사항:\n",
      "  (무엇을 커밋할지 바꾸려면 \"git add <파일>...\"을 사용하십시오)\n",
      "  (use \"git restore <file>...\" to discard changes in working directory)\n",
      "\t\u001b[31m수정함:        Crawling.ipynb\u001b[m\n",
      "\n",
      "추적하지 않는 파일:\n",
      "  (커밋할 사항에 포함하려면 \"git add <파일>...\"을 사용하십시오)\n",
      "\t\u001b[31m.DS_Store\u001b[m\n",
      "\t\u001b[31m.ipynb_checkpoints/\u001b[m\n",
      "\n",
      "커밋할 변경 사항을 추가하지 않았습니다 (\"git add\" 및/또는 \"git commit -a\"를\n",
      "사용하십시오)\n"
     ]
    }
   ],
   "source": [
    "!git commit -m \"첫 커밋\""
   ]
  },
  {
   "cell_type": "markdown",
   "id": "aabda127-25e4-4024-b50e-9aa4d602bd1c",
   "metadata": {},
   "source": [
    "### 2-4. 로그 확인하기"
   ]
  },
  {
   "cell_type": "code",
   "execution_count": 2,
   "id": "4d74dbf9-9d6f-472d-a846-f5d57e6053d2",
   "metadata": {},
   "outputs": [
    {
     "name": "stdout",
     "output_type": "stream",
     "text": [
      "\u001b[33mcommit 38b3596cb332dd9cb4123242683c25509577dc6a\u001b[m\u001b[33m (\u001b[m\u001b[1;36mHEAD\u001b[m\u001b[33m -> \u001b[m\u001b[1;32mmaster\u001b[m\u001b[33m)\u001b[m\n",
      "Author: Seongmin Lee <seongminlee@Seongminui-MacBookAir.local>\n",
      "Date:   Mon Sep 30 21:26:50 2024 +0900\n",
      "\n",
      "    첫 커밋\n",
      "\n",
      "\u001b[33mcommit 5b615692a67a7c9fff508590a3a3cebc987948f5\u001b[m\n",
      "Author: Seongmin Lee <seongminlee@Seongminui-MacBookAir.local>\n",
      "Date:   Mon Sep 30 21:23:19 2024 +0900\n",
      "\n",
      "    첫 커밋\n"
     ]
    }
   ],
   "source": [
    "!git log"
   ]
  },
  {
   "cell_type": "markdown",
   "id": "5c6e7a57-1aa7-4b7c-bce9-13ed79faf4ba",
   "metadata": {},
   "source": [
    "### 2-5. README.md 만들기\n",
    "* 깃허브에 업로드시 저장소 메인 설명글로 사용되는 파일\n",
    "* 마크다운으로 작성"
   ]
  },
  {
   "cell_type": "markdown",
   "id": "ae99ea14-6caf-41c2-85ce-4df20d23aa97",
   "metadata": {},
   "source": [
    "### 2-6. 여러 파일을 함께 선택하기\n",
    "* state에 현재 디렉토리에 있는 변화된 모든 파일 선택"
   ]
  },
  {
   "cell_type": "code",
   "execution_count": 3,
   "id": "1b972fc3-0060-4362-af32-4c6e1ca93775",
   "metadata": {},
   "outputs": [],
   "source": [
    "!git add ."
   ]
  },
  {
   "cell_type": "markdown",
   "id": "97259cb5-341c-4c7f-b8fd-3fd6e6625540",
   "metadata": {},
   "source": [
    "### 2-7. 선택된 여러 파일을 커밋"
   ]
  },
  {
   "cell_type": "code",
   "execution_count": 4,
   "id": "6e66e60d-cf22-4090-81d3-443778a09a11",
   "metadata": {},
   "outputs": [
    {
     "name": "stdout",
     "output_type": "stream",
     "text": [
      "[master 644479a] 현재 디렉토리에 있는 모든 변경된 파일을 커밋\n",
      " Committer: Seongmin Lee <seongminlee@Seongminui-MacBookAir.local>\n",
      "이름과 전자메일 주소를 사용자 이름과 호스트 이름을 이용해서\n",
      "자동으로 설정했습니다. 이 정보가 맞는지 확인하십시오. 이 메시지를\n",
      "보지 않으려면 정보를 명시적으로 설정하십시오:\n",
      "\n",
      "    git config --global user.name \"내 이름\"\n",
      "    git config --global user.email you@example.com\n",
      "\n",
      "이렇게 한 다음, 이 커밋에 사용한 신원 정보를 다음과 같이 해서 바꿀 수 있습니다:\n",
      "\n",
      "    git commit --amend --reset-author\n",
      "\n",
      " 4 files changed, 677 insertions(+), 22 deletions(-)\n",
      " create mode 100644 .DS_Store\n",
      " create mode 100644 .ipynb_checkpoints/Crawling-checkpoint.ipynb\n",
      " create mode 100644 README.md\n"
     ]
    }
   ],
   "source": [
    "!git commit -m \"현재 디렉토리에 있는 모든 변경된 파일을 커밋\""
   ]
  },
  {
   "cell_type": "code",
   "execution_count": 5,
   "id": "01ee28cd-54b9-4385-a027-450ce2f786b7",
   "metadata": {},
   "outputs": [
    {
     "name": "stdout",
     "output_type": "stream",
     "text": [
      "\u001b[33mcommit 644479a64b6f4e8a8532fe03da7f4ce67b3efb12\u001b[m\u001b[33m (\u001b[m\u001b[1;36mHEAD\u001b[m\u001b[33m -> \u001b[m\u001b[1;32mmaster\u001b[m\u001b[33m)\u001b[m\n",
      "Author: Seongmin Lee <seongminlee@Seongminui-MacBookAir.local>\n",
      "Date:   Mon Sep 30 21:39:21 2024 +0900\n",
      "\n",
      "    현재 디렉토리에 있는 모든 변경된 파일을 커밋\n",
      "\n",
      "\u001b[33mcommit 38b3596cb332dd9cb4123242683c25509577dc6a\u001b[m\n",
      "Author: Seongmin Lee <seongminlee@Seongminui-MacBookAir.local>\n",
      "Date:   Mon Sep 30 21:26:50 2024 +0900\n",
      "\n",
      "    첫 커밋\n",
      "\n",
      "\u001b[33mcommit 5b615692a67a7c9fff508590a3a3cebc987948f5\u001b[m\n",
      "Author: Seongmin Lee <seongminlee@Seongminui-MacBookAir.local>\n",
      "Date:   Mon Sep 30 21:23:19 2024 +0900\n",
      "\n",
      "    첫 커밋\n"
     ]
    }
   ],
   "source": [
    "!git log"
   ]
  },
  {
   "cell_type": "markdown",
   "id": "c2f29869-9da0-401b-80bb-a71ef57ca133",
   "metadata": {},
   "source": [
    "# **3. 깃허브(GitHub)**\n",
    "* Git으로 버전관리한 코드를 업로드 할 수 있는 클라우드 서비스\n",
    "* 단순히 저장만 하는 것이 아니라 다른 유저들과 함께 코드를 공유하고 온라인으로 하나의 프로젝트를 개발할 수 있게 해줌"
   ]
  },
  {
   "cell_type": "markdown",
   "id": "7e42a204-69f1-4912-ab5e-c7262864a93c",
   "metadata": {},
   "source": [
    "### 3-1. 로컬 저장소에서 github 저장소 주소를 설정"
   ]
  },
  {
   "cell_type": "code",
   "execution_count": 10,
   "id": "d356956c-e411-47e6-97c7-fab3c1453a01",
   "metadata": {},
   "outputs": [],
   "source": [
    "# https://github.com/dltjdas2000/Crawling.git\n",
    "!git remote add origin https://github.com/dltjdas2000/Crawling.git"
   ]
  },
  {
   "cell_type": "code",
   "execution_count": 12,
   "id": "c3d41c96-74df-407d-a56c-e5f8e45fbb5c",
   "metadata": {},
   "outputs": [
    {
     "name": "stdout",
     "output_type": "stream",
     "text": [
      "origin\thttps://github.com/dltjdas2000/Crawling.git (fetch)\n",
      "origin\thttps://github.com/dltjdas2000/Crawling.git (push)\n"
     ]
    }
   ],
   "source": [
    "# 확인하기\n",
    "!git remote -v"
   ]
  },
  {
   "cell_type": "code",
   "execution_count": 6,
   "id": "39174505-8f4a-42d9-8a89-63e6dca1beaa",
   "metadata": {},
   "outputs": [],
   "source": [
    "# 삭제하기\n",
    "!git remote remove origin"
   ]
  },
  {
   "cell_type": "markdown",
   "id": "aa6a94fc-9c6f-4de3-97cd-d78dd1e15e9c",
   "metadata": {},
   "source": [
    "### 3-2. 생성한 커밋(버전들) git로 전송하기"
   ]
  },
  {
   "cell_type": "code",
   "execution_count": 15,
   "id": "fc783a8f-d665-4318-a820-676aa929bf71",
   "metadata": {},
   "outputs": [
    {
     "name": "stdout",
     "output_type": "stream",
     "text": [
      "오브젝트 나열하는 중: 13, 완료.\n",
      "오브젝트 개수 세는 중: 100% (13/13), 완료.\n",
      "Delta compression using up to 8 threads\n",
      "오브젝트 압축하는 중: 100% (11/11), 완료.\n",
      "오브젝트 쓰는 중: 100% (13/13), 7.18 KiB | 7.18 MiB/s, 완료.\n",
      "Total 13 (delta 4), reused 0 (delta 0), pack-reused 0 (from 0)\n",
      "remote: Resolving deltas: 100% (4/4), done.\u001b[K\n",
      "To https://github.com/dltjdas2000/Crawling.git\n",
      " * [new branch]      master -> master\n",
      "branch 'master' set up to track 'origin/master'.\n"
     ]
    }
   ],
   "source": [
    "# -u : 업스트림. 원격 저장소와 로컬 브랜치가 추적하는 브랜치를 의미. 기본적으로 origin/master 브랜치를 추적.\n",
    "!git push -u origin master"
   ]
  },
  {
   "cell_type": "markdown",
   "id": "d3e42e42-6b44-472f-ae22-447e8b805bb1",
   "metadata": {},
   "source": [
    "### 3-3. Git Repository Clone\n",
    "* Repository를 로컬 시스템에 복제하는 방법\n",
    "* 지금까지 모든  Repository를 포함"
   ]
  },
  {
   "cell_type": "code",
   "execution_count": 19,
   "id": "05578523-63ce-440f-b181-98947f72573e",
   "metadata": {},
   "outputs": [
    {
     "name": "stdout",
     "output_type": "stream",
     "text": [
      "'Crawling'에 복제합니다...\n",
      "remote: Enumerating objects: 16, done.\u001b[K\n",
      "remote: Counting objects: 100% (16/16), done.\u001b[K\n",
      "remote: Compressing objects: 100% (10/10), done.\u001b[K\n",
      "remote: Total 16 (delta 5), reused 12 (delta 4), pack-reused 0 (from 0)\u001b[K\n",
      "오브젝트를 받는 중: 100% (16/16), 8.27 KiB | 8.27 MiB/s, 완료.\n",
      "델타를 알아내는 중: 100% (5/5), 완료.\n"
     ]
    }
   ],
   "source": [
    "# 폴더를 생성하고 폴더에 소스코드를 저장\n",
    "!git clone https://github.com/dltjdas2000/Crawling"
   ]
  },
  {
   "cell_type": "code",
   "execution_count": null,
   "id": "f042f951-3199-471f-b32c-090aa502fbd6",
   "metadata": {},
   "outputs": [],
   "source": [
    "# 폴더를 생성하지 않고 소스코드를 저장\n",
    "!git clone https://github.com/dltjdas2000/Crawling ."
   ]
  },
  {
   "cell_type": "markdown",
   "id": "f0eddf6b-5060-4ecf-a5d4-12db2cf251d9",
   "metadata": {},
   "source": [
    "# **4. 다른 사람과의 협업**\n",
    "원하는 Repository에서 Settings -> collaborators -> Manage access에서 Add people"
   ]
  },
  {
   "cell_type": "markdown",
   "id": "3a1414db-80c0-47fd-abc6-a2fa92b2f075",
   "metadata": {},
   "source": [
    "### 4-1. Git Repository Fork\n",
    "* 하나의 Repository를 다른 계정(또는 네임스페이스)으로 복사\n",
    "* Git 명령어가 아닌 Github에서 제공하는 명령어\n",
    "* 다른 사람의 github 계정 Repository에서 fork를 눌러 내 계정 Repository로 복사"
   ]
  },
  {
   "cell_type": "markdown",
   "id": "7f29005d-5645-4d54-80a0-9c435d51b3e7",
   "metadata": {},
   "source": [
    "### 4-2. pull\n",
    "* 원격 저장소에서 fetch 명령어로 가져온 후 merge까지 한번에 실행하는 명령어"
   ]
  },
  {
   "cell_type": "code",
   "execution_count": 42,
   "id": "60e8cdab-9787-4caf-b06a-9a06d526e8de",
   "metadata": {},
   "outputs": [
    {
     "name": "stdout",
     "output_type": "stream",
     "text": [
      "업데이트 중 644479a..1c051e5\n",
      "Fast-forward\n",
      " README.md | 50 \u001b[32m+++++++++++++++++++++++\u001b[m\u001b[31m---------------------------\u001b[m\n",
      " 1 file changed, 23 insertions(+), 27 deletions(-)\n"
     ]
    }
   ],
   "source": [
    "!git pull origin"
   ]
  },
  {
   "cell_type": "markdown",
   "id": "43956f9f-e413-45b7-b517-0cc10fde31ab",
   "metadata": {},
   "source": [
    "### 4-3. fetch\n",
    "* 원격 저장소에서 소스를 가져오기(merge를 사용하지 않음)"
   ]
  },
  {
   "cell_type": "code",
   "execution_count": 28,
   "id": "70be451a-e4c6-412c-a9cf-40dd663c658f",
   "metadata": {},
   "outputs": [],
   "source": [
    "!git fetch origin"
   ]
  },
  {
   "cell_type": "markdown",
   "id": "86c92d39-2d8c-4e82-bbe4-5fd5a2eb1ae4",
   "metadata": {},
   "source": [
    "### 4-4. branch\n",
    "* 작업에 대한 가지\n",
    "* 큰 줄기(master)에 영향을 주지 않고 가지에서만 작업을 별도로 할 수 있음\n",
    "* branch를 사용하여 저장소의 메인 분기에 영향을 미치지 않고 여러 기능이나 버그 수정을 동시에 수행할 수 있음"
   ]
  },
  {
   "cell_type": "code",
   "execution_count": 45,
   "id": "1d3f5925-e6b4-4393-bf7e-ce86011e4f53",
   "metadata": {},
   "outputs": [
    {
     "name": "stdout",
     "output_type": "stream",
     "text": [
      "새로 만든 'dev' 브랜치로 전환합니다\n"
     ]
    }
   ],
   "source": [
    "!git checkout -b dev"
   ]
  },
  {
   "cell_type": "code",
   "execution_count": null,
   "id": "bef62055-9b59-4b6e-b408-0bc1680c9be7",
   "metadata": {},
   "outputs": [],
   "source": [
    "!git commit -m ''"
   ]
  },
  {
   "cell_type": "markdown",
   "id": "ef205667-2051-4a45-8e4e-e044cf8acaeb",
   "metadata": {},
   "source": [
    "# **5. .gitignore 파일**\n",
    "프로젝트에 원하지 않는 백업 파일이나 로그파일 혹은 보안상 문제가 있는 파일들을 git에서 제외시킬 수 있는 설정 파일"
   ]
  },
  {
   "cell_type": "markdown",
   "id": "c665d40b-6572-4578-aa00-aca30f281b46",
   "metadata": {},
   "source": []
  },
  {
   "cell_type": "code",
   "execution_count": null,
   "id": "4ebb160f-876d-4c3e-a289-f2d65f07803d",
   "metadata": {},
   "outputs": [],
   "source": []
  },
  {
   "cell_type": "code",
   "execution_count": null,
   "id": "7b194927-6e85-46dd-a671-cbf590825c51",
   "metadata": {},
   "outputs": [],
   "source": []
  },
  {
   "cell_type": "code",
   "execution_count": null,
   "id": "7c19af13-4de0-4308-b92c-4dafde8ab260",
   "metadata": {},
   "outputs": [],
   "source": []
  }
 ],
 "metadata": {
  "kernelspec": {
   "display_name": "Python 3 (ipykernel)",
   "language": "python",
   "name": "python3"
  },
  "language_info": {
   "codemirror_mode": {
    "name": "ipython",
    "version": 3
   },
   "file_extension": ".py",
   "mimetype": "text/x-python",
   "name": "python",
   "nbconvert_exporter": "python",
   "pygments_lexer": "ipython3",
   "version": "3.12.4"
  }
 },
 "nbformat": 4,
 "nbformat_minor": 5
}
