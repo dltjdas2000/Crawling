{
 "cells": [
  {
   "cell_type": "markdown",
   "id": "d4b700af-5fd5-45e5-aed8-2b67a2b81c0c",
   "metadata": {},
   "source": [
    "# 1. Git\n",
    "* 버전관리 시스템의 종류\n",
    "* 버전관리 : 여러 파일을 하나의 버전으로 묶어 관리하는 것"
   ]
  },
  {
   "cell_type": "markdown",
   "id": "d6686cee-c30c-4ac5-8b18-021a3815f2be",
   "metadata": {},
   "source": [
    "### 1-1. 버전관리 시스템의 종류\n",
    "1. 클라이언트 - 서버 모델 : 하나의 중앙 서버로 여러 클라이언트들이 각자 필요한 것만 가져와서 작업을 하고 다시 중앙 서버로 보내서 통합하는 방식(SVN, CVS)\n",
    "2. 분산 모델 : 하나의 중앙 서버가 존재하지만, 여러 클라이언트들은 각자의 컴퓨터에 저장소에 전체 사본을 가지고 작업하는 방식(Git)"
   ]
  },
  {
   "cell_type": "markdown",
   "id": "05a2a4d3-5600-416e-97c8-732c71df9889",
   "metadata": {},
   "source": [
    "### 1-2. Git의 장점\n",
    "* 동시에 작업하는 사람들과 소스코드를 주고받을 필요가 없음\n",
    "* 같은 파일을 여러명이 동시에 병렬 개발이 가능\n",
    "* 변동 과정을 체계적으로 관리할 수 있고, 언제든지 지난 시점의 버전으로 되돌릴 수 있음\n",
    "* 인터넷이 연결되지 않은 곳에서도 개발을 진행할 수 있고, 중앙 서버의 데이터가 유실되어도 다시 복구할 수 있음"
   ]
  },
  {
   "cell_type": "markdown",
   "id": "229476ad-499d-4e3a-aa0e-b044b01ecb6f",
   "metadata": {},
   "source": [
    "### 1-3. Git 설치\n",
    "1. 구글에서 'Git 설치' 검색\n",
    "2. 왼쪽 메뉴에서, Downloads 클릭\n",
    "3. 모니터 이미지에 있는 다운로드 버튼 클릭\n",
    "4. 다운로드\n",
    "5. 설치가 끝난 후 git bash를 실행 -> git --version 명령으로 버전을 확인"
   ]
  },
  {
   "cell_type": "markdown",
   "id": "17cfbf26-0634-4586-b3e2-4e5b9a247c6b",
   "metadata": {},
   "source": [
    "# 2. Git 명령어"
   ]
  },
  {
   "cell_type": "markdown",
   "id": "40a7a417-f187-450a-a938-67be4516101e",
   "metadata": {},
   "source": [
    "### 2-1. 프로젝트 디렉토리 내 '로컬 저장소'를 생성하기\n",
    "* 원하는 프로젝트 위치로 이동 후 'git init'을 실행"
   ]
  },
  {
   "cell_type": "code",
   "execution_count": 1,
   "id": "9615a1f0-7bcc-4f45-b165-b3ae3297ec9a",
   "metadata": {},
   "outputs": [
    {
     "name": "stdout",
     "output_type": "stream",
     "text": [
      "/Users/seongminlee/Desktop/학원/AI활용CV/Jupyter\n"
     ]
    }
   ],
   "source": [
    "%cd /Users/seongminlee/Desktop/학원/AI활용CV/Jupyter"
   ]
  },
  {
   "cell_type": "code",
   "execution_count": 2,
   "id": "fb833515-7e94-4a67-a209-67ba25db740c",
   "metadata": {},
   "outputs": [
    {
     "name": "stdout",
     "output_type": "stream",
     "text": [
      "\u001b[33mhint: Using 'master' as the name for the initial branch. This default branch name\u001b[m\n",
      "\u001b[33mhint: is subject to change. To configure the initial branch name to use in all\u001b[m\n",
      "\u001b[33mhint: of your new repositories, which will suppress this warning, call:\u001b[m\n",
      "\u001b[33mhint:\u001b[m\n",
      "\u001b[33mhint: \tgit config --global init.defaultBranch <name>\u001b[m\n",
      "\u001b[33mhint:\u001b[m\n",
      "\u001b[33mhint: Names commonly chosen instead of 'master' are 'main', 'trunk' and\u001b[m\n",
      "\u001b[33mhint: 'development'. The just-created branch can be renamed via this command:\u001b[m\n",
      "\u001b[33mhint:\u001b[m\n",
      "\u001b[33mhint: \tgit branch -m <name>\u001b[m\n",
      "/Users/seongminlee/Desktop/학원/AI활용CV/Jupyter/.git/ 안의 빈 깃 저장소를 다시 초기화했습니다\n"
     ]
    }
   ],
   "source": [
    "!git init"
   ]
  },
  {
   "cell_type": "markdown",
   "id": "7c0d077a-16a9-41a0-af48-98d816d0d395",
   "metadata": {},
   "source": [
    "### 2-2. 버전을 관리할 파일을 선택(stage에 올림)"
   ]
  },
  {
   "cell_type": "code",
   "execution_count": 3,
   "id": "bb570662-bfec-4cb5-8315-19e5fbe88240",
   "metadata": {},
   "outputs": [],
   "source": [
    "!git add Crawling.ipynb"
   ]
  },
  {
   "cell_type": "markdown",
   "id": "40753912-939a-4b26-addc-ec148472b1d8",
   "metadata": {},
   "source": [
    "### 2-3. 하나의 버전으로 만들기\n",
    "* 로컬 시스템에서 파일을 생성/수정/삭제한 파일들을 선별하여 버전을 만드는 것\n",
    "* 파일이 변경될 때 변경 사항은 자동으로 저장되지 않음\n",
    "* git에게 새 커밋을 생성하여 변경 사항을 저장하도록 지시"
   ]
  },
  {
   "cell_type": "code",
   "execution_count": 4,
   "id": "1c4f1487-807c-4e75-a83c-51974081c635",
   "metadata": {},
   "outputs": [
    {
     "name": "stdout",
     "output_type": "stream",
     "text": [
      "[master (최상위-커밋) 5b61569] 첫 커밋\n",
      " Committer: Seongmin Lee <seongminlee@Seongminui-MacBookAir.local>\n",
      "이름과 전자메일 주소를 사용자 이름과 호스트 이름을 이용해서 자동으로\n",
      "설정했습니다. 이 정보가 맞는지 확인하십시오. 이 메시지를 보지 않으려면 정보를\n",
      "명시적으로 설정하십시오. 다음 명령어를 실행하고 편집기의 안내에 따라 설정\n",
      "파일을 편집하십시오:\n",
      "\n",
      "    git config --global --edit\n",
      "\n",
      "이렇게 한 다음, 이 커밋에 사용한 신원 정보를 다음과 같이 해서 바꿀 수 있습니다:\n",
      "\n",
      "    git commit --amend --reset-author\n",
      "\n",
      " 1 file changed, 151 insertions(+)\n",
      " create mode 100644 Crawling.ipynb\n"
     ]
    }
   ],
   "source": [
    "!git commit -m \"첫 커밋\""
   ]
  },
  {
   "cell_type": "code",
   "execution_count": null,
   "id": "bc81fbb7-065b-4ad1-8aea-c4aac2d9db95",
   "metadata": {},
   "outputs": [],
   "source": [
    "# 위와 같은 에러가 발생한 경우\n",
    "!git config --global --edit.email \"dltjdas2000@naver.com\"\n",
    "!git config --global --edit.name \"이성민\""
   ]
  },
  {
   "cell_type": "code",
   "execution_count": null,
   "id": "8a0f247f-7b8f-4489-b755-661c6bac160e",
   "metadata": {},
   "outputs": [],
   "source": [
    "# 만약 이메일 또는 이름을 자"
   ]
  }
 ],
 "metadata": {
  "kernelspec": {
   "display_name": "Python 3 (ipykernel)",
   "language": "python",
   "name": "python3"
  },
  "language_info": {
   "codemirror_mode": {
    "name": "ipython",
    "version": 3
   },
   "file_extension": ".py",
   "mimetype": "text/x-python",
   "name": "python",
   "nbconvert_exporter": "python",
   "pygments_lexer": "ipython3",
   "version": "3.12.4"
  }
 },
 "nbformat": 4,
 "nbformat_minor": 5
}
